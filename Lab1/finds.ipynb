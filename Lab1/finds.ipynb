{
  "nbformat": 4,
  "nbformat_minor": 0,
  "metadata": {
    "colab": {
      "name": "finds.ipynb",
      "provenance": []
    },
    "kernelspec": {
      "name": "python3",
      "display_name": "Python 3"
    }
  },
  "cells": [
    {
      "cell_type": "code",
      "metadata": {
        "id": "9oIqYQDd5Oo9"
      },
      "source": [
        "#Importing Important libararies\r\n",
        "import pandas as pd\r\n",
        "import numpy as np"
      ],
      "execution_count": 2,
      "outputs": []
    },
    {
      "cell_type": "code",
      "metadata": {
        "colab": {
          "base_uri": "https://localhost:8080/"
        },
        "id": "xk4XftsT5tVJ",
        "outputId": "359f3407-4b36-4994-a3de-5f4683676ada"
      },
      "source": [
        "#Reading Data\r\n",
        "data = pd.read_csv(\"/content/FindS - Sheet1.csv\")\r\n",
        "print(data)"
      ],
      "execution_count": 5,
      "outputs": [
        {
          "output_type": "stream",
          "text": [
            "   Example    Sky AirTemp Humidity    Wind Water Forecast Outcome\n",
            "0        1  Sunny  Normal   Normal  Strong  Warm     Warm     Yes\n",
            "1        2  Sunny    Warm     High  Strong  Warm     Warm     Yes\n",
            "2        3  Rainy    Cold     High  Strong  Warm   Change      No\n",
            "3        4  Sunny    Warm     High  Strong  Cool   Change     Yes\n"
          ],
          "name": "stdout"
        }
      ]
    },
    {
      "cell_type": "code",
      "metadata": {
        "colab": {
          "base_uri": "https://localhost:8080/"
        },
        "id": "KRj1pdae5oqQ",
        "outputId": "044645a7-bc70-4190-c888-1f07a1ffbe48"
      },
      "source": [
        "#Defining Concepts (features)\r\n",
        "concept=np.array(data)[:,:-1]\r\n",
        "print(concept)\r\n",
        "\r\n",
        "#defining target basically our positive and negative examples\r\n",
        "target=np.array(data)[:,-1]\r\n",
        "print(target)"
      ],
      "execution_count": 6,
      "outputs": [
        {
          "output_type": "stream",
          "text": [
            "[[1 'Sunny' 'Normal' 'Normal' 'Strong' 'Warm' 'Warm']\n",
            " [2 'Sunny' 'Warm' 'High' 'Strong' 'Warm' 'Warm']\n",
            " [3 'Rainy' 'Cold' 'High' 'Strong' 'Warm' 'Change']\n",
            " [4 'Sunny' 'Warm' 'High' 'Strong' 'Cool' 'Change']]\n",
            "['Yes' 'Yes' 'No' 'Yes']\n"
          ],
          "name": "stdout"
        }
      ]
    },
    {
      "cell_type": "code",
      "metadata": {
        "id": "ILlxZh6f5yzw"
      },
      "source": [
        "def func(concept, target):\r\n",
        "    for (i, val) in enumerate(target):\r\n",
        "        if val == 'Yes':\r\n",
        "            specific_hypothesis = concept[i].copy()\r\n",
        "            #print specific_hypothesis\r\n",
        "            break\r\n",
        "    count = 0\r\n",
        "    for (i, val) in enumerate(concept):\r\n",
        "        count = count + 1\r\n",
        "        print ('concept=', concept[i])\r\n",
        "        print ('count=', count)\r\n",
        "        if target[i] == 'Yes':\r\n",
        "            print ('target[i]=', target[i])\r\n",
        "            # print(len(specific_hypothesis))\r\n",
        "            for x in range(len(specific_hypothesis)):\r\n",
        "                print ('x=', x)\r\n",
        "                if val[x] != specific_hypothesis[x]:\r\n",
        "                    # print(\"val[x]=\",val[x])\r\n",
        "                    specific_hypothesis[x] = '?'\r\n",
        "                    print ('specific_hypothesis[x]=',\r\n",
        "                           specific_hypothesis)\r\n",
        "                else:\r\n",
        "                    pass\r\n",
        "    #print specific_hypothesis\r\n",
        "    return specific_hypothesis"
      ],
      "execution_count": 28,
      "outputs": []
    },
    {
      "cell_type": "code",
      "metadata": {
        "colab": {
          "base_uri": "https://localhost:8080/"
        },
        "id": "Tu23_6Bn8nWM",
        "outputId": "a18b8c74-fbf1-41b2-e3f7-9afb16363a91"
      },
      "source": [
        "print(\"Final Specific Hypothesis \", func(concept,target))"
      ],
      "execution_count": 29,
      "outputs": [
        {
          "output_type": "stream",
          "text": [
            "concept= [1 'Sunny' 'Normal' 'Normal' 'Strong' 'Warm' 'Warm']\n",
            "count= 1\n",
            "target[i]= Yes\n",
            "x= 0\n",
            "x= 1\n",
            "x= 2\n",
            "x= 3\n",
            "x= 4\n",
            "x= 5\n",
            "x= 6\n",
            "concept= [2 'Sunny' 'Warm' 'High' 'Strong' 'Warm' 'Warm']\n",
            "count= 2\n",
            "target[i]= Yes\n",
            "x= 0\n",
            "specific_hypothesis[x]= ['?' 'Sunny' 'Normal' 'Normal' 'Strong' 'Warm' 'Warm']\n",
            "x= 1\n",
            "x= 2\n",
            "specific_hypothesis[x]= ['?' 'Sunny' '?' 'Normal' 'Strong' 'Warm' 'Warm']\n",
            "x= 3\n",
            "specific_hypothesis[x]= ['?' 'Sunny' '?' '?' 'Strong' 'Warm' 'Warm']\n",
            "x= 4\n",
            "x= 5\n",
            "x= 6\n",
            "concept= [3 'Rainy' 'Cold' 'High' 'Strong' 'Warm' 'Change']\n",
            "count= 3\n",
            "concept= [4 'Sunny' 'Warm' 'High' 'Strong' 'Cool' 'Change']\n",
            "count= 4\n",
            "target[i]= Yes\n",
            "x= 0\n",
            "specific_hypothesis[x]= ['?' 'Sunny' '?' '?' 'Strong' 'Warm' 'Warm']\n",
            "x= 1\n",
            "x= 2\n",
            "specific_hypothesis[x]= ['?' 'Sunny' '?' '?' 'Strong' 'Warm' 'Warm']\n",
            "x= 3\n",
            "specific_hypothesis[x]= ['?' 'Sunny' '?' '?' 'Strong' 'Warm' 'Warm']\n",
            "x= 4\n",
            "x= 5\n",
            "specific_hypothesis[x]= ['?' 'Sunny' '?' '?' 'Strong' '?' 'Warm']\n",
            "x= 6\n",
            "specific_hypothesis[x]= ['?' 'Sunny' '?' '?' 'Strong' '?' '?']\n",
            "Final Specific Hypothesis  ['?' 'Sunny' '?' '?' 'Strong' '?' '?']\n"
          ],
          "name": "stdout"
        }
      ]
    },
    {
      "cell_type": "code",
      "metadata": {
        "id": "buk2e7HW-YIa"
      },
      "source": [
        ""
      ],
      "execution_count": null,
      "outputs": []
    }
  ]
}