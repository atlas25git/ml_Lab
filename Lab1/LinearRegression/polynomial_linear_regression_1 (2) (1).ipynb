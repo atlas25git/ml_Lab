{
  "nbformat": 4,
  "nbformat_minor": 0,
  "metadata": {
    "colab": {
      "name": "polynomial_linear_regression_1.ipynb",
      "provenance": [],
      "collapsed_sections": [],
      "toc_visible": true
    },
    "kernelspec": {
      "name": "python3",
      "display_name": "Python 3"
    }
  },
  "cells": [
    {
      "cell_type": "markdown",
      "metadata": {
        "id": "fIzHX-BZIBgT"
      },
      "source": [
        "Importing Libraries"
      ]
    },
    {
      "cell_type": "code",
      "metadata": {
        "id": "ZryG-CEXIeog"
      },
      "source": [
        "import numpy as np\r\n",
        "import pandas as pd\r\n",
        "import matplotlib.pyplot as plt"
      ],
      "execution_count": 3,
      "outputs": []
    },
    {
      "cell_type": "markdown",
      "metadata": {
        "id": "uoxltsUHImPI"
      },
      "source": [
        "Importing Dataset"
      ]
    },
    {
      "cell_type": "code",
      "metadata": {
        "id": "sNzmdYenIpd4"
      },
      "source": [
        "dataset=pd.read_csv(\"/content/drive/MyDrive/Machine Learning/2.Regression/1.Simple linear regression/Salary_Data.csv\")\r\n",
        "x=dataset.iloc[:,:-1].values\r\n",
        "y=dataset.iloc[:,-1].values"
      ],
      "execution_count": 5,
      "outputs": []
    },
    {
      "cell_type": "code",
      "metadata": {
        "colab": {
          "base_uri": "https://localhost:8080/"
        },
        "id": "swUaTfZVI8rn",
        "outputId": "ba2d6eb6-cb1b-4a58-dc4e-d4b16a6143dd"
      },
      "source": [
        "print(y)"
      ],
      "execution_count": null,
      "outputs": [
        {
          "output_type": "stream",
          "text": [
            "[ 39343.  46205.  37731.  43525.  39891.  56642.  60150.  54445.  64445.\n",
            "  57189.  63218.  55794.  56957.  57081.  61111.  67938.  66029.  83088.\n",
            "  81363.  93940.  91738.  98273. 101302. 113812. 109431. 105582. 116969.\n",
            " 112635. 122391. 121872.]\n"
          ],
          "name": "stdout"
        }
      ]
    },
    {
      "cell_type": "markdown",
      "metadata": {
        "id": "P069Ln_PJMa3"
      },
      "source": [
        "Splitting the Data"
      ]
    },
    {
      "cell_type": "code",
      "metadata": {
        "id": "blc8Tk3RJOUu"
      },
      "source": [
        "from sklearn.model_selection import train_test_split\r\n",
        "x_train,x_test,y_train,y_test = train_test_split(x,y,test_size=0.3)"
      ],
      "execution_count": 6,
      "outputs": []
    },
    {
      "cell_type": "markdown",
      "metadata": {
        "id": "r57avmwkJfIO"
      },
      "source": [
        "Training the SLR model"
      ]
    },
    {
      "cell_type": "code",
      "metadata": {
        "colab": {
          "base_uri": "https://localhost:8080/"
        },
        "id": "AGs8a1aSJjUO",
        "outputId": "9c77b6f4-2df3-4247-efa4-7e13038fb9a0"
      },
      "source": [
        "from sklearn.linear_model import LinearRegression\r\n",
        "regressor = LinearRegression()\r\n",
        "regressor.fit(x_train,y_train)"
      ],
      "execution_count": 7,
      "outputs": [
        {
          "output_type": "execute_result",
          "data": {
            "text/plain": [
              "LinearRegression(copy_X=True, fit_intercept=True, n_jobs=None, normalize=False)"
            ]
          },
          "metadata": {
            "tags": []
          },
          "execution_count": 7
        }
      ]
    },
    {
      "cell_type": "code",
      "metadata": {
        "colab": {
          "base_uri": "https://localhost:8080/"
        },
        "id": "gsY-OICkTMyF",
        "outputId": "1a171be5-4b76-41d7-c65a-59bf5644ebdc"
      },
      "source": [
        "print(x_train)"
      ],
      "execution_count": 28,
      "outputs": [
        {
          "output_type": "stream",
          "text": [
            "[[ 4.5]\n",
            " [ 3. ]\n",
            " [ 9.5]\n",
            " [ 5.9]\n",
            " [10.3]\n",
            " [ 9. ]\n",
            " [ 4. ]\n",
            " [ 3.2]\n",
            " [ 5.1]\n",
            " [ 3.2]\n",
            " [ 1.1]\n",
            " [ 8.7]\n",
            " [ 9.6]\n",
            " [ 4.9]\n",
            " [ 7.9]\n",
            " [ 2. ]\n",
            " [ 6. ]\n",
            " [ 8.2]\n",
            " [ 4.1]\n",
            " [ 3.9]\n",
            " [ 3.7]]\n"
          ],
          "name": "stdout"
        }
      ]
    },
    {
      "cell_type": "markdown",
      "metadata": {
        "id": "HMmhmCIHNIH3"
      },
      "source": [
        "Polynomial"
      ]
    },
    {
      "cell_type": "code",
      "metadata": {
        "colab": {
          "base_uri": "https://localhost:8080/"
        },
        "id": "v-2ev7jXNKHu",
        "outputId": "99d31ae6-9fce-459f-b30a-2e961f898dd7"
      },
      "source": [
        "from sklearn.preprocessing import PolynomialFeatures\r\n",
        "poly_reg = PolynomialFeatures(degree=3)\r\n",
        "x_poly = poly_reg.fit_transform(x_train)\r\n",
        "x_poly_test= poly_reg.fit_transform(x_test)\r\n",
        "lin_reg2 = LinearRegression()\r\n",
        "lin_reg2.fit(x_poly,y_train)"
      ],
      "execution_count": 25,
      "outputs": [
        {
          "output_type": "execute_result",
          "data": {
            "text/plain": [
              "LinearRegression(copy_X=True, fit_intercept=True, n_jobs=None, normalize=False)"
            ]
          },
          "metadata": {
            "tags": []
          },
          "execution_count": 25
        }
      ]
    },
    {
      "cell_type": "markdown",
      "metadata": {
        "id": "U5bMFBxCJ151"
      },
      "source": [
        "Predicting the Test set Results"
      ]
    },
    {
      "cell_type": "code",
      "metadata": {
        "id": "qNKI53jEJ_3V",
        "colab": {
          "base_uri": "https://localhost:8080/",
          "height": 178
        },
        "outputId": "7249ddeb-3c5f-4d6c-e59e-eebb5660b29f"
      },
      "source": [
        "y_pred=regressor.predict(x_test)\r\n"
      ],
      "execution_count": 24,
      "outputs": [
        {
          "output_type": "error",
          "ename": "TypeError",
          "evalue": "ignored",
          "traceback": [
            "\u001b[0;31m---------------------------------------------------------------------------\u001b[0m",
            "\u001b[0;31mTypeError\u001b[0m                                 Traceback (most recent call last)",
            "\u001b[0;32m<ipython-input-24-677b84ce66d1>\u001b[0m in \u001b[0;36m<module>\u001b[0;34m()\u001b[0m\n\u001b[1;32m      1\u001b[0m \u001b[0my_pred\u001b[0m\u001b[0;34m=\u001b[0m\u001b[0mregressor\u001b[0m\u001b[0;34m.\u001b[0m\u001b[0mpredict\u001b[0m\u001b[0;34m(\u001b[0m\u001b[0mx_test\u001b[0m\u001b[0;34m)\u001b[0m\u001b[0;34m\u001b[0m\u001b[0;34m\u001b[0m\u001b[0m\n\u001b[0;32m----> 2\u001b[0;31m \u001b[0my_pred_poly\u001b[0m\u001b[0;34m=\u001b[0m\u001b[0mlin_reg2\u001b[0m\u001b[0;34m(\u001b[0m\u001b[0mx_poly_test\u001b[0m\u001b[0;34m)\u001b[0m\u001b[0;34m\u001b[0m\u001b[0;34m\u001b[0m\u001b[0m\n\u001b[0m",
            "\u001b[0;31mTypeError\u001b[0m: 'LinearRegression' object is not callable"
          ]
        }
      ]
    },
    {
      "cell_type": "code",
      "metadata": {
        "colab": {
          "base_uri": "https://localhost:8080/"
        },
        "id": "kbZ42T3fKG2F",
        "outputId": "2b809e79-ce1f-4de8-df9d-0b1e6bea9e75"
      },
      "source": [
        "print(y_pred)"
      ],
      "execution_count": null,
      "outputs": [
        {
          "output_type": "stream",
          "text": [
            "[ 37378.79421512  39313.32349556  55756.82237927  63494.93950102\n",
            " 111858.17151194  74134.85054342  81872.96766517  76069.37982386\n",
            "  64462.20414124]\n"
          ],
          "name": "stdout"
        }
      ]
    },
    {
      "cell_type": "markdown",
      "metadata": {
        "id": "jbJEMH8BKO-E"
      },
      "source": [
        "Visualising"
      ]
    },
    {
      "cell_type": "code",
      "metadata": {
        "colab": {
          "base_uri": "https://localhost:8080/",
          "height": 312
        },
        "id": "eGlw_P_jKQT1",
        "outputId": "cff001e7-90ab-4281-afaa-0890f0c7aeff"
      },
      "source": [
        "#training set\r\n",
        "\r\n",
        "plt.scatter(x_train,y_train,color='red')\r\n",
        "plt.plot(x_train,regressor.predict(x_train),color='blue')\r\n",
        "plt.title('Salary as Experience')\r\n",
        "plt.xlabel('Exp.')\r\n",
        "plt.ylabel('salary')\r\n",
        "plt.show"
      ],
      "execution_count": null,
      "outputs": [
        {
          "output_type": "execute_result",
          "data": {
            "text/plain": [
              "<function matplotlib.pyplot.show>"
            ]
          },
          "metadata": {
            "tags": []
          },
          "execution_count": 11
        },
        {
          "output_type": "display_data",
          "data": {
            "image/png": "[encoded data removed]",
            "text/plain": [
              "<Figure size 432x288 with 1 Axes>"
            ]
          },
          "metadata": {
            "tags": [],
            "needs_background": "light"
          }
        }
      ]
    },
    {
      "cell_type": "code",
      "metadata": {
        "colab": {
          "base_uri": "https://localhost:8080/",
          "height": 312
        },
        "id": "sEsQU5AHK1XD",
        "outputId": "e3eed44a-d8a0-4dc3-c3a1-855aa0860f32"
      },
      "source": [
        "#test set\r\n",
        "\r\n",
        "plt.scatter(x_test,y_test,color='red')\r\n",
        "plt.plot(x_train,regressor.predict(x_train),color='blue')\r\n",
        "plt.title('Salary as Experience')\r\n",
        "plt.xlabel('Exp.')\r\n",
        "plt.ylabel('salary')\r\n",
        "plt.show"
      ],
      "execution_count": null,
      "outputs": [
        {
          "output_type": "execute_result",
          "data": {
            "text/plain": [
              "<function matplotlib.pyplot.show>"
            ]
          },
          "metadata": {
            "tags": []
          },
          "execution_count": 12
        },
        {
          "output_type": "display_data",
          "data": {
            "image/png": "[encoded data removed]",
            "text/plain": [
              "<Figure size 432x288 with 1 Axes>"
            ]
          },
          "metadata": {
            "tags": [],
            "needs_background": "light"
          }
        }
      ]
    },
    {
      "cell_type": "code",
      "metadata": {
        "colab": {
          "base_uri": "https://localhost:8080/",
          "height": 312
        },
        "id": "un083VvFPlB6",
        "outputId": "b973630e-e432-4a47-f78e-9e98057b3757"
      },
      "source": [
        "#poly\r\n",
        "\r\n",
        "plt.scatter(x_train,y_train,color='red')\r\n",
        "plt.plot(x_train,lin_reg2.predict(x_poly),color='blue')\r\n",
        "plt.title('Salary as Experience')\r\n",
        "plt.xlabel('Exp.')\r\n",
        "plt.ylabel('salary')\r\n",
        "plt.show"
      ],
      "execution_count": 20,
      "outputs": [
        {
          "output_type": "execute_result",
          "data": {
            "text/plain": [
              "<function matplotlib.pyplot.show>"
            ]
          },
          "metadata": {
            "tags": []
          },
          "execution_count": 20
        },
        {
          "output_type": "display_data",
          "data": {
            "image/png": "[encoded data removed]",
            "text/plain": [
              "<Figure size 432x288 with 1 Axes>"
            ]
          },
          "metadata": {
            "tags": [],
            "needs_background": "light"
          }
        }
      ]
    },
    {
      "cell_type": "code",
      "metadata": {
        "colab": {
          "base_uri": "https://localhost:8080/",
          "height": 312
        },
        "id": "-DKmkUosQoA5",
        "outputId": "07924276-b5d2-4bec-fc4e-da74c3f27c23"
      },
      "source": [
        "#poly_test\r\n",
        "\r\n",
        "plt.scatter(x_test,y_test,color='red')\r\n",
        "plt.plot(x_train,lin_reg2.predict(x_poly),color='blue')\r\n",
        "plt.title('Salary as Experience')\r\n",
        "plt.xlabel('Exp.')\r\n",
        "plt.ylabel('salary')\r\n",
        "plt.show"
      ],
      "execution_count": 21,
      "outputs": [
        {
          "output_type": "execute_result",
          "data": {
            "text/plain": [
              "<function matplotlib.pyplot.show>"
            ]
          },
          "metadata": {
            "tags": []
          },
          "execution_count": 21
        },
        {
          "output_type": "display_data",
          "data": {
            "image/png": "[encoded data removed]",
            "text/plain": [
              "<Figure size 432x288 with 1 Axes>"
            ]
          },
          "metadata": {
            "tags": [],
            "needs_background": "light"
          }
        }
      ]
    },
    {
      "cell_type": "markdown",
      "metadata": {
        "id": "2nJcGM9TLvZZ"
      },
      "source": [
        "Evaluation"
      ]
    },
    {
      "cell_type": "code",
      "metadata": {
        "colab": {
          "base_uri": "https://localhost:8080/"
        },
        "id": "GkFTDwyMLxUJ",
        "outputId": "c49db8a3-150e-49f3-c0e2-d9dec0cbb049"
      },
      "source": [
        "from sklearn.metrics import r2_score\r\n",
        "r2_score(y_test,y_pred)\r\n",
        "#print(r2_score)"
      ],
      "execution_count": null,
      "outputs": [
        {
          "output_type": "execute_result",
          "data": {
            "text/plain": [
              "0.8817220904591664"
            ]
          },
          "metadata": {
            "tags": []
          },
          "execution_count": 14
        }
      ]
    },
    {
      "cell_type": "code",
      "metadata": {
        "colab": {
          "base_uri": "https://localhost:8080/"
        },
        "id": "PmrHMYSCVnaj",
        "outputId": "dc874b4b-75f4-478d-c373-3d0032fb8de8"
      },
      "source": [
        "val = float(input())\r\n",
        "print(val)\r\n",
        "print(type(val))"
      ],
      "execution_count": 42,
      "outputs": [
        {
          "output_type": "stream",
          "text": [
            "23\n",
            "23.0\n",
            "<class 'float'>\n"
          ],
          "name": "stdout"
        }
      ]
    },
    {
      "cell_type": "code",
      "metadata": {
        "colab": {
          "base_uri": "https://localhost:8080/"
        },
        "id": "NgNb7paSRxuP",
        "outputId": "ab0d3d1d-bd26-4ba2-b2ce-1249a77f2ad6"
      },
      "source": [
        "from sklearn.metrics import r2_score\r\n",
        "\r\n",
        "r2_score(y_test,lin_reg2.predict(x_poly_test))\r\n",
        "#print(r2_score)"
      ],
      "execution_count": 26,
      "outputs": [
        {
          "output_type": "execute_result",
          "data": {
            "text/plain": [
              "0.9694163525131799"
            ]
          },
          "metadata": {
            "tags": []
          },
          "execution_count": 26
        }
      ]
    },
    {
      "cell_type": "code",
      "metadata": {
        "colab": {
          "base_uri": "https://localhost:8080/"
        },
        "id": "g0U40N6ISvO8",
        "outputId": "a946d191-0a16-4607-d834-528b164873f0"
      },
      "source": [
        "#Prediction\r\n",
        "exp=float(input('Experience '))\r\n",
        "pred=regressor.predict([[exp]])\r\n",
        "print(pred)\r\n",
        "#Poly Prediction\r\n",
        "predP=lin_reg2.predict(poly_reg.transform([[exp]]))\r\n",
        "print(predP)"
      ],
      "execution_count": 48,
      "outputs": [
        {
          "output_type": "stream",
          "text": [
            "Experience 10.3\n",
            "[123072.91280312]\n",
            "[119971.24696776]\n"
          ],
          "name": "stdout"
        }
      ]
    }
  ]
}