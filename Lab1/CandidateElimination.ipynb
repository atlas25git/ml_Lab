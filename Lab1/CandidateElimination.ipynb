{
  "nbformat": 4,
  "nbformat_minor": 0,
  "metadata": {
    "colab": {
      "name": "CandidateElimination.ipynb",
      "provenance": []
    },
    "kernelspec": {
      "name": "python3",
      "display_name": "Python 3"
    }
  },
  "cells": [
    {
      "cell_type": "code",
      "metadata": {
        "id": "9oIqYQDd5Oo9"
      },
      "source": [
        "#Importing Important libararies\r\n",
        "import pandas as pd\r\n",
        "import numpy as np"
      ],
      "execution_count": 1,
      "outputs": []
    },
    {
      "cell_type": "code",
      "metadata": {
        "colab": {
          "base_uri": "https://localhost:8080/"
        },
        "id": "xk4XftsT5tVJ",
        "outputId": "0d9a2483-5f4a-447a-9cf7-d46b1b9d9b08"
      },
      "source": [
        "#Reading Data\r\n",
        "data = pd.read_csv(\"/content/FindS - Sheet1.csv\")\r\n",
        "print(data)"
      ],
      "execution_count": 2,
      "outputs": [
        {
          "output_type": "stream",
          "text": [
            "   Example    Sky AirTemp Humidity    Wind Water Forecast Outcome\n",
            "0        1  Sunny  Normal   Normal  Strong  Warm     Warm     Yes\n",
            "1        2  Sunny    Warm     High  Strong  Warm     Warm     Yes\n",
            "2        3  Rainy    Cold     High  Strong  Warm   Change      No\n",
            "3        4  Sunny    Warm     High  Strong  Cool   Change     Yes\n"
          ],
          "name": "stdout"
        }
      ]
    },
    {
      "cell_type": "code",
      "metadata": {
        "colab": {
          "base_uri": "https://localhost:8080/"
        },
        "id": "KRj1pdae5oqQ",
        "outputId": "5351fccf-4624-41d7-8d12-07991f0ea5e9"
      },
      "source": [
        "#Defining Concepts (features)\r\n",
        "concepts=np.array(data)[:,:-1]\r\n",
        "print(concepts)\r\n",
        "\r\n",
        "#defining target basically our positive and negative examples\r\n",
        "target=np.array(data)[:,-1]\r\n",
        "print(target)"
      ],
      "execution_count": 7,
      "outputs": [
        {
          "output_type": "stream",
          "text": [
            "[[1 'Sunny' 'Normal' 'Normal' 'Strong' 'Warm' 'Warm']\n",
            " [2 'Sunny' 'Warm' 'High' 'Strong' 'Warm' 'Warm']\n",
            " [3 'Rainy' 'Cold' 'High' 'Strong' 'Warm' 'Change']\n",
            " [4 'Sunny' 'Warm' 'High' 'Strong' 'Cool' 'Change']]\n",
            "['Yes' 'Yes' 'No' 'Yes']\n"
          ],
          "name": "stdout"
        }
      ]
    },
    {
      "cell_type": "code",
      "metadata": {
        "id": "ILlxZh6f5yzw",
        "colab": {
          "base_uri": "https://localhost:8080/"
        },
        "outputId": "4eafe5de-9def-47af-e69a-f930af75812f"
      },
      "source": [
        "def learn(concepts, target):\r\n",
        "\r\n",
        "    specific_h = concepts[0].copy()\r\n",
        "\r\n",
        "    print(\"Initialization of specific_h and general_h\")\r\n",
        "\r\n",
        "    print(\"specific_h: \",specific_h)\r\n",
        "\r\n",
        "    general_h = [[\"?\" for i in range(len(specific_h))] for i in range(len(specific_h))]\r\n",
        "\r\n",
        "    print(\"general_h: \",general_h)\r\n",
        "\r\n",
        "    print(\"concepts: \",concepts)\r\n",
        "\r\n",
        "    for i, h in enumerate(concepts):\r\n",
        "\r\n",
        "        if target[i] == \"yes\":\r\n",
        "\r\n",
        "            for x in range(len(specific_h)):\r\n",
        "\r\n",
        "                #print(\"h[x]\",h[x])\r\n",
        "\r\n",
        "                if h[x] != specific_h[x]:\r\n",
        "\r\n",
        "                    specific_h[x] = '?'\r\n",
        "\r\n",
        "                    general_h[x][x] = '?'\r\n",
        "\r\n",
        "        if target[i] == \"no\":\r\n",
        "\r\n",
        "            for x in range(len(specific_h)):\r\n",
        "\r\n",
        "                if h[x] != specific_h[x]:\r\n",
        "\r\n",
        "                    general_h[x][x] = specific_h[x]\r\n",
        "\r\n",
        "                else:\r\n",
        "\r\n",
        "                    general_h[x][x] = '?'\r\n",
        "\r\n",
        "    print(\"\\nSteps of Candidate Elimination Algorithm: \",i+1)\r\n",
        "\r\n",
        "    print(\"Specific_h: \",i+1)\r\n",
        "\r\n",
        "    print(specific_h,\"\\n\")\r\n",
        "\r\n",
        "    print(\"general_h :\", i+1)\r\n",
        "\r\n",
        "    print(general_h)\r\n",
        "\r\n",
        "    indices = [i for i, val in enumerate(general_h) if val == ['?', '?', '?', '?', '?', '?']]\r\n",
        "\r\n",
        "    print(\"\\nIndices\",indices)\r\n",
        "\r\n",
        "    for i in indices:\r\n",
        "\r\n",
        "        general_h.remove(['?', '?', '?', '?', '?', '?'])\r\n",
        "\r\n",
        "    return specific_h, general_h\r\n",
        "\r\n",
        "s_final,g_final = learn(concepts, target)\r\n",
        "\r\n",
        "print(\"\\nFinal Specific_h:\", s_final, sep=\"\\n\")\r\n",
        "\r\n",
        "print(\"Final General_h:\", g_final, sep=\"\\n\")"
      ],
      "execution_count": 8,
      "outputs": [
        {
          "output_type": "stream",
          "text": [
            "Initialization of specific_h and general_h\n",
            "specific_h:  [1 'Sunny' 'Normal' 'Normal' 'Strong' 'Warm' 'Warm']\n",
            "general_h:  [['?', '?', '?', '?', '?', '?', '?'], ['?', '?', '?', '?', '?', '?', '?'], ['?', '?', '?', '?', '?', '?', '?'], ['?', '?', '?', '?', '?', '?', '?'], ['?', '?', '?', '?', '?', '?', '?'], ['?', '?', '?', '?', '?', '?', '?'], ['?', '?', '?', '?', '?', '?', '?']]\n",
            "concepts:  [[1 'Sunny' 'Normal' 'Normal' 'Strong' 'Warm' 'Warm']\n",
            " [2 'Sunny' 'Warm' 'High' 'Strong' 'Warm' 'Warm']\n",
            " [3 'Rainy' 'Cold' 'High' 'Strong' 'Warm' 'Change']\n",
            " [4 'Sunny' 'Warm' 'High' 'Strong' 'Cool' 'Change']]\n",
            "\n",
            "Steps of Candidate Elimination Algorithm:  4\n",
            "Specific_h:  4\n",
            "[1 'Sunny' 'Normal' 'Normal' 'Strong' 'Warm' 'Warm'] \n",
            "\n",
            "general_h : 4\n",
            "[['?', '?', '?', '?', '?', '?', '?'], ['?', '?', '?', '?', '?', '?', '?'], ['?', '?', '?', '?', '?', '?', '?'], ['?', '?', '?', '?', '?', '?', '?'], ['?', '?', '?', '?', '?', '?', '?'], ['?', '?', '?', '?', '?', '?', '?'], ['?', '?', '?', '?', '?', '?', '?']]\n",
            "\n",
            "Indices []\n",
            "\n",
            "Final Specific_h:\n",
            "[1 'Sunny' 'Normal' 'Normal' 'Strong' 'Warm' 'Warm']\n",
            "Final General_h:\n",
            "[['?', '?', '?', '?', '?', '?', '?'], ['?', '?', '?', '?', '?', '?', '?'], ['?', '?', '?', '?', '?', '?', '?'], ['?', '?', '?', '?', '?', '?', '?'], ['?', '?', '?', '?', '?', '?', '?'], ['?', '?', '?', '?', '?', '?', '?'], ['?', '?', '?', '?', '?', '?', '?']]\n"
          ],
          "name": "stdout"
        }
      ]
    },
    {
      "cell_type": "code",
      "metadata": {
        "colab": {
          "base_uri": "https://localhost:8080/"
        },
        "id": "Tu23_6Bn8nWM",
        "outputId": "a18b8c74-fbf1-41b2-e3f7-9afb16363a91"
      },
      "source": [
        "print(\"Final Specific Hypothesis \", func(concept,target))"
      ],
      "execution_count": null,
      "outputs": [
        {
          "output_type": "stream",
          "text": [
            "concept= [1 'Sunny' 'Normal' 'Normal' 'Strong' 'Warm' 'Warm']\n",
            "count= 1\n",
            "target[i]= Yes\n",
            "x= 0\n",
            "x= 1\n",
            "x= 2\n",
            "x= 3\n",
            "x= 4\n",
            "x= 5\n",
            "x= 6\n",
            "concept= [2 'Sunny' 'Warm' 'High' 'Strong' 'Warm' 'Warm']\n",
            "count= 2\n",
            "target[i]= Yes\n",
            "x= 0\n",
            "specific_hypothesis[x]= ['?' 'Sunny' 'Normal' 'Normal' 'Strong' 'Warm' 'Warm']\n",
            "x= 1\n",
            "x= 2\n",
            "specific_hypothesis[x]= ['?' 'Sunny' '?' 'Normal' 'Strong' 'Warm' 'Warm']\n",
            "x= 3\n",
            "specific_hypothesis[x]= ['?' 'Sunny' '?' '?' 'Strong' 'Warm' 'Warm']\n",
            "x= 4\n",
            "x= 5\n",
            "x= 6\n",
            "concept= [3 'Rainy' 'Cold' 'High' 'Strong' 'Warm' 'Change']\n",
            "count= 3\n",
            "concept= [4 'Sunny' 'Warm' 'High' 'Strong' 'Cool' 'Change']\n",
            "count= 4\n",
            "target[i]= Yes\n",
            "x= 0\n",
            "specific_hypothesis[x]= ['?' 'Sunny' '?' '?' 'Strong' 'Warm' 'Warm']\n",
            "x= 1\n",
            "x= 2\n",
            "specific_hypothesis[x]= ['?' 'Sunny' '?' '?' 'Strong' 'Warm' 'Warm']\n",
            "x= 3\n",
            "specific_hypothesis[x]= ['?' 'Sunny' '?' '?' 'Strong' 'Warm' 'Warm']\n",
            "x= 4\n",
            "x= 5\n",
            "specific_hypothesis[x]= ['?' 'Sunny' '?' '?' 'Strong' '?' 'Warm']\n",
            "x= 6\n",
            "specific_hypothesis[x]= ['?' 'Sunny' '?' '?' 'Strong' '?' '?']\n",
            "Final Specific Hypothesis  ['?' 'Sunny' '?' '?' 'Strong' '?' '?']\n"
          ],
          "name": "stdout"
        }
      ]
    },
    {
      "cell_type": "code",
      "metadata": {
        "id": "buk2e7HW-YIa"
      },
      "source": [
        ""
      ],
      "execution_count": null,
      "outputs": []
    }
  ]
}