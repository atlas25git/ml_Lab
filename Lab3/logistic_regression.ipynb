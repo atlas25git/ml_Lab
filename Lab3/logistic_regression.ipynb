{
  "nbformat": 4,
  "nbformat_minor": 0,
  "metadata": {
    "kernelspec": {
      "display_name": "Python 3",
      "language": "python",
      "name": "python3"
    },
    "language_info": {
      "codemirror_mode": {
        "name": "ipython",
        "version": 3
      },
      "file_extension": ".py",
      "mimetype": "text/x-python",
      "name": "python",
      "nbconvert_exporter": "python",
      "pygments_lexer": "ipython3",
      "version": "3.6.9"
    },
    "colab": {
      "name": "logistic-regression.ipynb",
      "provenance": []
    }
  },
  "cells": [
    {
      "cell_type": "markdown",
      "metadata": {
        "id": "1Qt2BxFURmYu"
      },
      "source": [
        "# Logistic Regression\n"
      ]
    },
    {
      "cell_type": "code",
      "metadata": {
        "colab": {
          "base_uri": "https://localhost:8080/"
        },
        "id": "pUkFKMIiRmY2",
        "outputId": "261fb5de-25e5-4ae4-ca58-842bbff817c1"
      },
      "source": [
        "!pip3 install matplotlib"
      ],
      "execution_count": 1,
      "outputs": [
        {
          "output_type": "stream",
          "text": [
            "Requirement already satisfied: matplotlib in /usr/local/lib/python3.7/dist-packages (3.2.2)\n",
            "Requirement already satisfied: pyparsing!=2.0.4,!=2.1.2,!=2.1.6,>=2.0.1 in /usr/local/lib/python3.7/dist-packages (from matplotlib) (2.4.7)\n",
            "Requirement already satisfied: cycler>=0.10 in /usr/local/lib/python3.7/dist-packages (from matplotlib) (0.10.0)\n",
            "Requirement already satisfied: kiwisolver>=1.0.1 in /usr/local/lib/python3.7/dist-packages (from matplotlib) (1.3.1)\n",
            "Requirement already satisfied: numpy>=1.11 in /usr/local/lib/python3.7/dist-packages (from matplotlib) (1.19.5)\n",
            "Requirement already satisfied: python-dateutil>=2.1 in /usr/local/lib/python3.7/dist-packages (from matplotlib) (2.8.1)\n",
            "Requirement already satisfied: six in /usr/local/lib/python3.7/dist-packages (from cycler>=0.10->matplotlib) (1.15.0)\n"
          ],
          "name": "stdout"
        }
      ]
    },
    {
      "cell_type": "code",
      "metadata": {
        "id": "SmCCAlPsRmY5"
      },
      "source": [
        "from random import random\n",
        "from copy import deepcopy\n",
        "from math import exp, log, sqrt\n",
        "from pathlib import Path\n",
        "from matplotlib import pyplot as plt\n",
        "from typing import List"
      ],
      "execution_count": 3,
      "outputs": []
    },
    {
      "cell_type": "code",
      "metadata": {
        "id": "J20cETZgRmY6"
      },
      "source": [
        "# Ensure that we have a `data` directory we use to store downloaded data\n",
        "!mkdir -p data\n",
        "data_dir: Path = Path('data')"
      ],
      "execution_count": 4,
      "outputs": []
    },
    {
      "cell_type": "code",
      "metadata": {
        "id": "83dWUpoFRmY7",
        "outputId": "6c7bc7e2-5477-4abd-c7cd-4fa3c945fd2a"
      },
      "source": [
        "!head -n 20 data/marks.txt"
      ],
      "execution_count": null,
      "outputs": [
        {
          "output_type": "stream",
          "text": [
            "34.62365962451697,78.0246928153624,0\n",
            "30.28671076822607,43.89499752400101,0\n",
            "35.84740876993872,72.90219802708364,0\n",
            "60.18259938620976,86.30855209546826,1\n",
            "79.0327360507101,75.3443764369103,1\n",
            "45.08327747668339,56.3163717815305,0\n",
            "61.10666453684766,96.51142588489624,1\n",
            "75.02474556738889,46.55401354116538,1\n",
            "76.09878670226257,87.42056971926803,1\n",
            "84.43281996120035,43.53339331072109,1\n",
            "95.86155507093572,38.22527805795094,0\n",
            "75.01365838958247,30.60326323428011,0\n",
            "82.30705337399482,76.48196330235604,1\n",
            "69.36458875970939,97.71869196188608,1\n",
            "39.53833914367223,76.03681085115882,0\n",
            "53.9710521485623,89.20735013750205,1\n",
            "69.07014406283025,52.74046973016765,1\n",
            "67.94685547711617,46.67857410673128,0\n",
            "70.66150955499435,92.92713789364831,1\n",
            "76.97878372747498,47.57596364975532,1\n"
          ],
          "name": "stdout"
        }
      ]
    },
    {
      "cell_type": "code",
      "metadata": {
        "id": "3syHkSXMRmY7"
      },
      "source": [
        "# Create the Python path pointing to the `marks.txt` file\n",
        "marks_data_path: Path = data_dir / 'marks.txt'"
      ],
      "execution_count": 6,
      "outputs": []
    },
    {
      "cell_type": "code",
      "metadata": {
        "id": "ATUYqby9RmY8"
      },
      "source": [
        "# Turn the data into a list of x vectors (one for every pair of x items) and a vector containing all the y items\n",
        "xs: List[List[float]] = []\n",
        "ys: List[float] = []\n",
        "\n",
        "with open(marks_data_path) as file:\n",
        "    for line in file:\n",
        "        data_point: List[str] = line.strip().split(',')\n",
        "        x1: float = float(data_point[0])\n",
        "        x2: float = float(data_point[1])\n",
        "        y: int = int(data_point[2])\n",
        "        xs.append([x1, x2])\n",
        "        ys.append(y)"
      ],
      "execution_count": null,
      "outputs": []
    },
    {
      "cell_type": "code",
      "metadata": {
        "id": "Lv3MoE6RRmY8",
        "outputId": "4033fc25-1691-42b3-d0f9-8e28f77135d2"
      },
      "source": [
        "# Create a scatter plot with the x1 values on the x axis and the x2 values on the y axis\n",
        "# The color is determined by the corresponding y value\n",
        "x1s: List[float] = [x[0] for x in xs]\n",
        "x2s: List[float] = [x[1] for x in xs]\n",
        "\n",
        "plt.scatter(x1s, x2s, c=ys)\n",
        "plt.axis([min(x1s), max(x1s), min(x2s), max(x2s)]);"
      ],
      "execution_count": null,
      "outputs": [
        {
          "output_type": "display_data",
          "data": {
            "image/png": "[encoded data removed]",
            "text/plain": [
              "<Figure size 432x288 with 1 Axes>"
            ]
          },
          "metadata": {
            "tags": [],
            "needs_background": "light"
          }
        }
      ]
    },
    {
      "cell_type": "code",
      "metadata": {
        "id": "5KjjhU9yRmY9",
        "outputId": "cc872054-f158-46b7-e3de-28b8f493bb9a"
      },
      "source": [
        "# Prepend a constant of 1 to every x value so that we can use the dot product later on\n",
        "for x in xs:\n",
        "    x.insert(0, 1)\n",
        "\n",
        "xs[:5]"
      ],
      "execution_count": null,
      "outputs": [
        {
          "output_type": "execute_result",
          "data": {
            "text/plain": [
              "[[1, 34.62365962451697, 78.0246928153624],\n",
              " [1, 30.28671076822607, 43.89499752400101],\n",
              " [1, 35.84740876993872, 72.90219802708364],\n",
              " [1, 60.18259938620976, 86.30855209546826],\n",
              " [1, 79.0327360507101, 75.3443764369103]]"
            ]
          },
          "metadata": {
            "tags": []
          },
          "execution_count": 9
        }
      ]
    },
    {
      "cell_type": "code",
      "metadata": {
        "id": "iSkdUdJMRmY-"
      },
      "source": [
        "# Rescales the data so that each item has a mean of 0 and a standard deviation of 1\n",
        "# See: https://en.wikipedia.org/wiki/Standard_score\n",
        "def z_score(data: List[List[float]]) -> List[List[float]]:\n",
        "    def mean(data: List[float]) -> float:\n",
        "        return sum(data) / len(data)\n",
        "\n",
        "    def standard_deviation_sample(data: List[float]) -> float:\n",
        "        num_items: int = len(data)\n",
        "        mu: float = mean(data)\n",
        "        return sqrt(1 / (num_items - 1) * sum([(item - mu) ** 2 for item in data]))\n",
        "\n",
        "    data_copy: List[List[float]] = deepcopy(data)\n",
        "    data_transposed = list(zip(*data_copy))\n",
        "    mus: List[float] = []\n",
        "    stds: List[float] = []\n",
        "    for item in data_transposed:\n",
        "        mus.append(mean(list(item)))\n",
        "        stds.append(standard_deviation_sample(list(item)))\n",
        "\n",
        "    for item in data_copy:\n",
        "        mu: float = mean(item)\n",
        "        std: float = standard_deviation_sample(item)\n",
        "        for i, elem in enumerate(item):\n",
        "            if stds[i] > 0.0:\n",
        "                item[i] = (elem - mus[i]) / stds[i]\n",
        "\n",
        "    return data_copy"
      ],
      "execution_count": null,
      "outputs": []
    },
    {
      "cell_type": "code",
      "metadata": {
        "id": "1nUoSvlFRmY-",
        "outputId": "94201e5e-119e-40a3-ba30-5911becd9814"
      },
      "source": [
        "xs = z_score(xs)\n",
        "\n",
        "xs[:5]"
      ],
      "execution_count": null,
      "outputs": [
        {
          "output_type": "execute_result",
          "data": {
            "text/plain": [
              "[[1, -1.5942162646576388, 0.6351413941754435],\n",
              " [1, -1.8171014180340745, -1.2014885239142388],\n",
              " [1, -1.531325157335502, 0.3594832875590465],\n",
              " [1, -0.28068723821760927, 1.0809228071415948],\n",
              " [1, 0.6880619310375534, 0.4909048515228952]]"
            ]
          },
          "metadata": {
            "tags": []
          },
          "execution_count": 11
        }
      ]
    },
    {
      "cell_type": "code",
      "metadata": {
        "id": "eTiTI_NKRmY_"
      },
      "source": [
        "# The sigmoid function which turns any number `x` into a number between 0 and 1\n",
        "def sigmoid(x: float) -> float:\n",
        "    return 1 / (1 + exp(-x))\n",
        "\n",
        "assert sigmoid(0) == 0.5"
      ],
      "execution_count": null,
      "outputs": []
    },
    {
      "cell_type": "code",
      "metadata": {
        "id": "6czaO_UORmY_",
        "outputId": "f9eb2034-fe4b-485f-d448-54f0170a58b6"
      },
      "source": [
        "xs_sigmoid: List[float] = [x for x in range(-10, 10)]\n",
        "ys_sigmoid: List[float] = [sigmoid(x) for x in xs_sigmoid]\n",
        "\n",
        "plt.plot(xs_sigmoid, ys_sigmoid);"
      ],
      "execution_count": null,
      "outputs": [
        {
          "output_type": "display_data",
          "data": {
            "image/png": "[encoded data removed]",
            "text/plain": [
              "<Figure size 432x288 with 1 Axes>"
            ]
          },
          "metadata": {
            "tags": [],
            "needs_background": "light"
          }
        }
      ]
    },
    {
      "cell_type": "code",
      "metadata": {
        "id": "TI0tO51iRmZA"
      },
      "source": [
        "# Function which calculates the dot product\n",
        "# See: https://en.wikipedia.org/wiki/Dot_product\n",
        "def dot(a: List[float], b: List[float]) -> float:\n",
        "    assert len(a) == len(b)\n",
        "    return sum([a_i * b_i for a_i, b_i in zip(a, b)])\n",
        "\n",
        "assert dot([1, 2, 3, 4], [5, 6, 7, 8]) == 70"
      ],
      "execution_count": null,
      "outputs": []
    },
    {
      "cell_type": "code",
      "metadata": {
        "id": "8WPVkHlsRmZA"
      },
      "source": [
        "# Function which turns vectors of `beta` and `x` values into a value between 0 and 1\n",
        "def squish(beta: List[float], x: List[float]) -> float:\n",
        "    assert len(beta) == len(x)\n",
        "    # Calculate the dot product\n",
        "    dot_result: float = dot(beta, x)\n",
        "    # Use sigmoid to get a result between 0 and 1\n",
        "    return sigmoid(dot_result)\n",
        "\n",
        "assert squish([1, 2, 3, 4], [5, 6, 7, 8]) == 1.0"
      ],
      "execution_count": null,
      "outputs": []
    },
    {
      "cell_type": "code",
      "metadata": {
        "id": "Z92lSmzbRmZA"
      },
      "source": [
        "# The negative log likelihood function which we'll use to calculate how \"off\" our prediction is\n",
        "def neg_log_likelihood(y: float, y_pred: float) -> float:\n",
        "    return -((y * log(y_pred)) + ((1 - y) * log(1 - y_pred)))\n",
        "\n",
        "assert 2.30 < neg_log_likelihood(1, 0.1) < 2.31\n",
        "assert 2.30 < neg_log_likelihood(0, 0.9) < 2.31\n",
        "assert 0.10 < neg_log_likelihood(1, 0.9) < 0.11\n",
        "assert 0.10 < neg_log_likelihood(0, 0.1) < 0.11"
      ],
      "execution_count": null,
      "outputs": []
    },
    {
      "cell_type": "code",
      "metadata": {
        "id": "2mmn_4rMRmZB",
        "outputId": "f19670ad-fdef-4aa9-f07f-a2f77180fb42"
      },
      "source": [
        "# Plot of the negative log likelihood function to see how incorrect predictions influence the overall error\n",
        "xs_nll: List[float] = [x / 10000 for x in range(1, 10000)]\n",
        "\n",
        "fig, (ax1, ax2) = plt.subplots(1, 2)\n",
        "ax1.plot(xs_nll, [neg_log_likelihood(1, x) for x in xs_nll])\n",
        "ax1.set_title('y = 1')\n",
        "ax2.plot(xs_nll, [neg_log_likelihood(0, x) for x in xs_nll])\n",
        "ax2.set_title('y = 0');"
      ],
      "execution_count": null,
      "outputs": [
        {
          "output_type": "display_data",
          "data": {
            "image/png": "[encoded data removed]",
            "text/plain": [
              "<Figure size 432x288 with 2 Axes>"
            ]
          },
          "metadata": {
            "tags": [],
            "needs_background": "light"
          }
        }
      ]
    },
    {
      "cell_type": "code",
      "metadata": {
        "id": "ORjl77O8RmZB"
      },
      "source": [
        "# Calculates the overall error\n",
        "def error(ys: List[float], ys_pred: List[float]) -> float:\n",
        "    assert len(ys) == len(ys_pred)\n",
        "    num_items: int = len(ys)\n",
        "    sum_nll: float = sum([neg_log_likelihood(y, y_pred) for y, y_pred in zip(ys, ys_pred)])\n",
        "    return (1 / num_items) * sum_nll\n",
        "\n",
        "assert 2.30 < error([1], [0.1]) < 2.31\n",
        "assert 2.30 < error([0], [0.9]) < 2.31\n",
        "assert 0.10 < error([1], [0.9]) < 0.11\n",
        "assert 0.10 < error([0], [0.1]) < 0.11"
      ],
      "execution_count": null,
      "outputs": []
    },
    {
      "cell_type": "code",
      "metadata": {
        "id": "Bho05yQNRmZC",
        "outputId": "94c6b11b-06f1-4055-e6c5-790d3f6d7e62"
      },
      "source": [
        "# Find the best separation to classify the data points\n",
        "beta: List[float] = [random() / 10 for _ in range(3)]\n",
        "\n",
        "print(f'Starting with \"beta\": {beta}')\n",
        "\n",
        "epochs: int = 5000\n",
        "learning_rate: float = 0.01\n",
        "\n",
        "for epoch in range(epochs):\n",
        "    # Calculate the \"predictions\" (squishified dot product of `beta` and `x`) based on our current `beta` vector\n",
        "    ys_pred: List[float] = [squish(beta, x) for x in xs]\n",
        "\n",
        "    # Calculate and print the error\n",
        "    if epoch % 1000 == True:\n",
        "        loss: float = error(ys, ys_pred)\n",
        "        print(f'Epoch {epoch} --> loss: {loss}')\n",
        "\n",
        "    # Calculate the gradient\n",
        "    grad: List[float] = [0 for _ in range(len(beta))]\n",
        "    for x, y in zip(xs, ys):\n",
        "        err: float = squish(beta, x) - y\n",
        "        for i, x_i in enumerate(x):\n",
        "            grad[i] += (err * x_i)\n",
        "    grad = [1 / len(x) * g_i for g_i in grad]\n",
        "\n",
        "    # Take a small step in the direction of greatest decrease\n",
        "    beta = [b + (gb * -learning_rate) for b, gb in zip(beta, grad)]\n",
        "\n",
        "print(f'Best estimate for \"beta\": {beta}')"
      ],
      "execution_count": null,
      "outputs": [
        {
          "output_type": "stream",
          "text": [
            "Starting with \"beta\": [0.06879018957747185, 0.060750489548129484, 0.08122488791609535]\n",
            "Epoch 1 --> loss: 0.6091560801945126\n",
            "Epoch 1001 --> loss: 0.2037432848849053\n",
            "Epoch 2001 --> loss: 0.20350230881468107\n",
            "Epoch 3001 --> loss: 0.20349779972872906\n",
            "Epoch 4001 --> loss: 0.20349770371660023\n",
            "Best estimate for \"beta\": [1.7184091311489376, 4.01281584290694, 3.7438191715393083]\n"
          ],
          "name": "stdout"
        }
      ]
    },
    {
      "cell_type": "code",
      "metadata": {
        "id": "4KasTJPMRmZC",
        "outputId": "a02c16c3-d736-4c32-a712-c91aca564c23"
      },
      "source": [
        "# Compute some statistics to see how our model is doing\n",
        "total: int = len(ys)\n",
        "thresh: float = 0.5\n",
        "true_positives: int = 0\n",
        "true_negatives: int = 0\n",
        "false_positives: int = 0\n",
        "false_negatives: int = 0\n",
        "for i, x in enumerate(xs):\n",
        "    y: int = ys[i]\n",
        "    pred: float = squish(beta, x)\n",
        "    y_pred: int = 1\n",
        "    if pred < thresh:\n",
        "        y_pred = 0\n",
        "    if y == 1 and y_pred == 1:\n",
        "        true_positives += 1\n",
        "    elif y == 0 and y_pred == 0:\n",
        "        true_negatives += 1\n",
        "    elif y == 1 and y_pred == 0:\n",
        "        false_negatives += 1\n",
        "    elif y == 0 and y_pred == 1:\n",
        "        false_positives += 1\n",
        "\n",
        "print(f'True Positives: {true_positives}')\n",
        "print(f'True Negatives: {true_negatives}')\n",
        "print(f'False Positives: {false_positives}')\n",
        "print(f'False Negatives: {false_negatives}')\n",
        "print(f'Accuracy: {(true_positives + true_negatives) / total}')\n",
        "print(f'Error rate: {(false_positives + false_negatives) / total}')"
      ],
      "execution_count": null,
      "outputs": [
        {
          "output_type": "stream",
          "text": [
            "True Positives: 55\n",
            "True Negatives: 34\n",
            "False Positives: 6\n",
            "False Negatives: 5\n",
            "Accuracy: 0.89\n",
            "Error rate: 0.11\n"
          ],
          "name": "stdout"
        }
      ]
    },
    {
      "cell_type": "code",
      "metadata": {
        "id": "Fc3Je2qFRmZE",
        "outputId": "35af9e0d-33eb-4c70-f46a-c3a79b0340e3"
      },
      "source": [
        "# Plot the decision boundary\n",
        "x1s: List[float] = [x[1] for x in xs]\n",
        "x2s: List[float] = [x[2] for x in xs]\n",
        "plt.scatter(x1s, x2s, c=ys)\n",
        "plt.axis([min(x1s), max(x1s), min(x2s), max(x2s)]);\n",
        "\n",
        "m: float = -(beta[1] / beta[2])\n",
        "b: float = -(beta[0] / beta[2])\n",
        "\n",
        "x2s: List[float] = [m * x[1] + b for x in xs]\n",
        "\n",
        "plt.plot(x1s, x2s, '--');"
      ],
      "execution_count": null,
      "outputs": [
        {
          "output_type": "display_data",
          "data": {
            "image/png": "[encoded data removed]",
            "text/plain": [
              "<Figure size 432x288 with 1 Axes>"
            ]
          },
          "metadata": {
            "tags": [],
            "needs_background": "light"
          }
        }
      ]
    }
  ]
}