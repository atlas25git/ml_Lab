{
  "nbformat": 4,
  "nbformat_minor": 0,
  "metadata": {
    "kernelspec": {
      "display_name": "Python 3",
      "language": "python",
      "name": "python3"
    },
    "language_info": {
      "codemirror_mode": {
        "name": "ipython",
        "version": 3
      },
      "file_extension": ".py",
      "mimetype": "text/x-python",
      "name": "python",
      "nbconvert_exporter": "python",
      "pygments_lexer": "ipython3",
      "version": "3.7.0"
    },
    "colab": {
      "name": "SVM.ipynb",
      "provenance": [],
      "toc_visible": true
    }
  },
  "cells": [
    {
      "cell_type": "markdown",
      "metadata": {
        "id": "lohxp4nWTwV5"
      },
      "source": [
        "# SVM"
      ]
    },
    {
      "cell_type": "markdown",
      "metadata": {
        "id": "W_cN3ecXVYDF"
      },
      "source": [
        "## Importing Libraries"
      ]
    },
    {
      "cell_type": "code",
      "metadata": {
        "id": "hLVXn6ScVa09"
      },
      "source": [
        "import numpy as np\n",
        "import pandas as pd\n",
        "import statsmodels.api as sm\n",
        "from sklearn.preprocessing import MinMaxScaler\n",
        "from sklearn.model_selection import train_test_split as tts\n",
        "from sklearn.metrics import accuracy_score, recall_score, precision_score\n",
        "from sklearn.utils import shuffle"
      ],
      "execution_count": 5,
      "outputs": []
    },
    {
      "cell_type": "markdown",
      "metadata": {
        "id": "ENExNr_mVcp0"
      },
      "source": [
        "# >> FEATURE SELECTION << #"
      ]
    },
    {
      "cell_type": "code",
      "metadata": {
        "id": "pIFqo7H9VjJM"
      },
      "source": [
        "def remove_correlated_features(X):\n",
        "    corr_threshold = 0.9\n",
        "    corr = X.corr()\n",
        "    drop_columns = np.full(corr.shape[0], False, dtype=bool)\n",
        "    for i in range(corr.shape[0]):\n",
        "        for j in range(i + 1, corr.shape[0]):\n",
        "            if corr.iloc[i, j] >= corr_threshold:\n",
        "                drop_columns[j] = True\n",
        "    columns_dropped = X.columns[drop_columns]\n",
        "    X.drop(columns_dropped, axis=1, inplace=True)\n",
        "    return columns_dropped\n",
        "\n",
        "\n",
        "def remove_less_significant_features(X, Y):\n",
        "    sl = 0.05\n",
        "    regression_ols = None\n",
        "    columns_dropped = np.array([])\n",
        "    for itr in range(0, len(X.columns)):\n",
        "        regression_ols = sm.OLS(Y, X).fit()\n",
        "        max_col = regression_ols.pvalues.idxmax()\n",
        "        max_val = regression_ols.pvalues.max()\n",
        "        if max_val > sl:\n",
        "            X.drop(max_col, axis='columns', inplace=True)\n",
        "            columns_dropped = np.append(columns_dropped, [max_col])\n",
        "        else:\n",
        "            break\n",
        "    regression_ols.summary()\n",
        "    return columns_dropped\n",
        "\n"
      ],
      "execution_count": 6,
      "outputs": []
    },
    {
      "cell_type": "markdown",
      "metadata": {
        "id": "tjuvGHpRVlw0"
      },
      "source": [
        "# MODEL TRAINING  #"
      ]
    },
    {
      "cell_type": "code",
      "metadata": {
        "id": "0LuEWGgyVJmd"
      },
      "source": [
        "def compute_cost(W, X, Y):\n",
        "    # calculate hinge loss\n",
        "    N = X.shape[0]\n",
        "    distances = 1 - Y * (np.dot(X, W))\n",
        "    distances[distances < 0] = 0  # equivalent to max(0, distance)\n",
        "    hinge_loss = regularization_strength * (np.sum(distances) / N)\n",
        "\n",
        "    # calculate cost\n",
        "    cost = 1 / 2 * np.dot(W, W) + hinge_loss\n",
        "    return cost\n",
        "\n",
        "def calculate_cost_gradient(W, X_batch, Y_batch):\n",
        "    # if only one example is passed (eg. in case of SGD)\n",
        "    if type(Y_batch) == np.float64:\n",
        "        Y_batch = np.array([Y_batch])\n",
        "        X_batch = np.array([X_batch])  # gives multidimensional array\n",
        "\n",
        "    distance = 1 - (Y_batch * np.dot(X_batch, W))\n",
        "    dw = np.zeros(len(W))\n",
        "\n",
        "    for ind, d in enumerate(distance):\n",
        "        if max(0, d) == 0:\n",
        "            di = W\n",
        "        else:\n",
        "            di = W - (regularization_strength * Y_batch[ind] * X_batch[ind])\n",
        "        dw += di\n",
        "\n",
        "    dw = dw/len(Y_batch)  # average\n",
        "    return dw\n",
        "\n",
        "\n",
        "def sgd(features, outputs):\n",
        "    max_epochs = 5000\n",
        "    weights = np.zeros(features.shape[1])\n",
        "    nth = 0\n",
        "    prev_cost = float(\"inf\")\n",
        "    cost_threshold = 0.01  # in percent\n",
        "    # stochastic gradient descent\n",
        "    for epoch in range(1, max_epochs):\n",
        "        # shuffle to prevent repeating update cycles\n",
        "        X, Y = shuffle(features, outputs)\n",
        "        for ind, x in enumerate(X):\n",
        "            ascent = calculate_cost_gradient(weights, x, Y[ind])\n",
        "            weights = weights - (learning_rate * ascent)\n",
        "\n",
        "        # convergence check on 2^nth epoch\n",
        "        if epoch == 2 ** nth or epoch == max_epochs - 1:\n",
        "            cost = compute_cost(weights, features, outputs)\n",
        "            print(\"Epoch is: {} and Cost is: {}\".format(epoch, cost))\n",
        "            # stoppage criterion\n",
        "            if abs(prev_cost - cost) < cost_threshold * prev_cost:\n",
        "                return weights\n",
        "            prev_cost = cost\n",
        "            nth += 1\n",
        "    return weights\n",
        "\n",
        "\n"
      ],
      "execution_count": 7,
      "outputs": []
    },
    {
      "cell_type": "markdown",
      "metadata": {
        "id": "JAwU28uZWIaE"
      },
      "source": [
        "#Implementation"
      ]
    },
    {
      "cell_type": "code",
      "metadata": {
        "colab": {
          "base_uri": "https://localhost:8080/"
        },
        "id": "4Bnh7o8pWKuc",
        "outputId": "11423127-b28c-4f99-8d34-5670627d2464"
      },
      "source": [
        "def init():\n",
        "    print(\"reading dataset...\")\n",
        "    # read data in pandas (pd) data frame\n",
        "    data = pd.read_csv('/content/data.csv')\n",
        "    print(data)\n",
        "\n",
        "    # drop last column (extra column added by pd)\n",
        "    # and unnecessary first column (id)\n",
        "    data.drop(data.columns[[-1, 0]], axis=1, inplace=True)\n",
        "\n",
        "    print(\"applying feature engineering...\")\n",
        "    # convert categorical labels to numbers\n",
        "    diag_map = {'M': 1.0, 'B': -1.0}\n",
        "    data['diagnosis'] = data['diagnosis'].map(diag_map)\n",
        "\n",
        "    # put features & outputs in different data frames\n",
        "    Y = data.loc[:, 'diagnosis']\n",
        "    X = data.iloc[:, 1:]\n",
        "\n",
        "    # filter features\n",
        "    remove_correlated_features(X)\n",
        "    remove_less_significant_features(X, Y)\n",
        "\n",
        "    # normalize data for better convergence and to prevent overflow\n",
        "    X_normalized = MinMaxScaler().fit_transform(X.values)\n",
        "    X = pd.DataFrame(X_normalized)\n",
        "\n",
        "    # insert 1 in every row for intercept b\n",
        "    X.insert(loc=len(X.columns), column='intercept', value=1)\n",
        "\n",
        "    # split data into train and test set\n",
        "    print(\"splitting dataset into train and test sets...\")\n",
        "    X_train, X_test, y_train, y_test = tts(X, Y, test_size=0.2, random_state=42)\n",
        "\n",
        "    # train the model\n",
        "    print(\"training started...\")\n",
        "    W = sgd(X_train.to_numpy(), y_train.to_numpy())\n",
        "    print(\"training finished.\")\n",
        "    print(\"weights are: {}\".format(W))\n",
        "\n",
        "    # testing the model\n",
        "    print(\"testing the model...\")\n",
        "    y_train_predicted = np.array([])\n",
        "    for i in range(X_train.shape[0]):\n",
        "        yp = np.sign(np.dot(X_train.to_numpy()[i], W))\n",
        "        y_train_predicted = np.append(y_train_predicted, yp)\n",
        "\n",
        "    y_test_predicted = np.array([])\n",
        "    for i in range(X_test.shape[0]):\n",
        "        yp = np.sign(np.dot(X_test.to_numpy()[i], W))\n",
        "        y_test_predicted = np.append(y_test_predicted, yp)\n",
        "\n",
        "    print(\"accuracy on test dataset: {}\".format(accuracy_score(y_test, y_test_predicted)))\n",
        "    print(\"recall on test dataset: {}\".format(recall_score(y_test, y_test_predicted)))\n",
        "    print(\"precision on test dataset: {}\".format(recall_score(y_test, y_test_predicted)))\n",
        "\n",
        "\n",
        "# set hyper-parameters and call init\n",
        "regularization_strength = 10000\n",
        "learning_rate = 0.000001\n",
        "init()"
      ],
      "execution_count": 8,
      "outputs": [
        {
          "output_type": "stream",
          "text": [
            "reading dataset...\n",
            "           id diagnosis  ...  fractal_dimension_worst  Unnamed: 32\n",
            "0      842302         M  ...                  0.11890          NaN\n",
            "1      842517         M  ...                  0.08902          NaN\n",
            "2    84300903         M  ...                  0.08758          NaN\n",
            "3    84348301         M  ...                  0.17300          NaN\n",
            "4    84358402         M  ...                  0.07678          NaN\n",
            "..        ...       ...  ...                      ...          ...\n",
            "564    926424         M  ...                  0.07115          NaN\n",
            "565    926682         M  ...                  0.06637          NaN\n",
            "566    926954         M  ...                  0.07820          NaN\n",
            "567    927241         M  ...                  0.12400          NaN\n",
            "568     92751         B  ...                  0.07039          NaN\n",
            "\n",
            "[569 rows x 33 columns]\n",
            "applying feature engineering...\n",
            "splitting dataset into train and test sets...\n",
            "training started...\n",
            "Epoch is: 1 and Cost is: 7375.721391628854\n",
            "Epoch is: 2 and Cost is: 6547.206438277055\n",
            "Epoch is: 4 and Cost is: 5432.023975872105\n",
            "Epoch is: 8 and Cost is: 3833.3681971862306\n",
            "Epoch is: 16 and Cost is: 2640.2347047749317\n",
            "Epoch is: 32 and Cost is: 1976.680934833546\n",
            "Epoch is: 64 and Cost is: 1587.4600515191448\n",
            "Epoch is: 128 and Cost is: 1324.8514420578135\n",
            "Epoch is: 256 and Cost is: 1158.545437533521\n",
            "Epoch is: 512 and Cost is: 1078.9519415202274\n",
            "Epoch is: 1024 and Cost is: 1046.5107480437896\n",
            "Epoch is: 2048 and Cost is: 1045.3778688631965\n",
            "training finished.\n",
            "weights are: [ 3.56566986 11.06607282 -2.29498162 -7.89488654 10.15430751 -1.27319492\n",
            " -6.44029689  2.27949396 -3.89025534  3.23932944  4.94900286  4.83026785\n",
            " -4.71192734]\n",
            "testing the model...\n",
            "accuracy on test dataset: 0.9912280701754386\n",
            "recall on test dataset: 0.9767441860465116\n",
            "precision on test dataset: 0.9767441860465116\n"
          ],
          "name": "stdout"
        }
      ]
    }
  ]
}